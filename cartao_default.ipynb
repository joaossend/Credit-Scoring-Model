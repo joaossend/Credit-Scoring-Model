{
 "cells": [
  {
   "cell_type": "code",
   "execution_count": 1,
   "metadata": {},
   "outputs": [],
   "source": [
    "import pandas as pd\n",
    "import seaborn as sns\n",
    "import numpy as np\n",
    "import warnings\n",
    "warnings.filterwarnings(\"ignore\")\n",
    "from matplotlib import pyplot as plt\n",
    "from sklearn.model_selection import train_test_split\n",
    "from numpy import random\n",
    "from sklearn.ensemble import RandomForestClassifier\n",
    "from sklearn.metrics import confusion_matrix\n",
    "from sklearn.feature_selection import RFECV\n",
    "from sklearn.linear_model import LogisticRegression, RidgeClassifier\n",
    "from sklearn.metrics import accuracy_score,classification_report,confusion_matrix,mean_squared_error\n",
    "from sklearn.neural_network import MLPClassifier\n",
    "from imblearn.under_sampling import RandomUnderSampler\n",
    "from imblearn.over_sampling import SMOTE\n",
    "from imblearn.under_sampling import NearMiss\n",
    "from sklearn.neighbors import KNeighborsClassifier\n",
    "\n",
    "import xgboost as xgb\n",
    "from xgboost import XGBClassifier\n",
    "from sklearn.metrics import accuracy_score, confusion_matrix, roc_auc_score, roc_curve\n",
    "from scipy.ndimage.filters import gaussian_filter1d"
   ]
  },
  {
   "cell_type": "code",
   "execution_count": 2,
   "metadata": {},
   "outputs": [],
   "source": [
    "df = pd.read_csv('UCI_Credit_Card.csv')\n",
    "dum_df = df.rename(columns={'default.payment.next.month':'default'})"
   ]
  },
  {
   "cell_type": "code",
   "execution_count": 3,
   "metadata": {},
   "outputs": [
    {
     "name": "stdout",
     "output_type": "stream",
     "text": [
      "<class 'pandas.core.frame.DataFrame'>\n",
      "RangeIndex: 30000 entries, 0 to 29999\n",
      "Data columns (total 25 columns):\n",
      " #   Column     Non-Null Count  Dtype  \n",
      "---  ------     --------------  -----  \n",
      " 0   ID         30000 non-null  int64  \n",
      " 1   LIMIT_BAL  30000 non-null  float64\n",
      " 2   SEX        30000 non-null  int64  \n",
      " 3   EDUCATION  30000 non-null  int64  \n",
      " 4   MARRIAGE   30000 non-null  int64  \n",
      " 5   AGE        30000 non-null  int64  \n",
      " 6   PAY_0      30000 non-null  int64  \n",
      " 7   PAY_2      30000 non-null  int64  \n",
      " 8   PAY_3      30000 non-null  int64  \n",
      " 9   PAY_4      30000 non-null  int64  \n",
      " 10  PAY_5      30000 non-null  int64  \n",
      " 11  PAY_6      30000 non-null  int64  \n",
      " 12  BILL_AMT1  30000 non-null  float64\n",
      " 13  BILL_AMT2  30000 non-null  float64\n",
      " 14  BILL_AMT3  30000 non-null  float64\n",
      " 15  BILL_AMT4  30000 non-null  float64\n",
      " 16  BILL_AMT5  30000 non-null  float64\n",
      " 17  BILL_AMT6  30000 non-null  float64\n",
      " 18  PAY_AMT1   30000 non-null  float64\n",
      " 19  PAY_AMT2   30000 non-null  float64\n",
      " 20  PAY_AMT3   30000 non-null  float64\n",
      " 21  PAY_AMT4   30000 non-null  float64\n",
      " 22  PAY_AMT5   30000 non-null  float64\n",
      " 23  PAY_AMT6   30000 non-null  float64\n",
      " 24  default    30000 non-null  int64  \n",
      "dtypes: float64(13), int64(12)\n",
      "memory usage: 5.7 MB\n"
     ]
    }
   ],
   "source": [
    "dum_df.info()"
   ]
  },
  {
   "cell_type": "code",
   "execution_count": 4,
   "metadata": {},
   "outputs": [
    {
     "data": {
      "text/plain": [
       "default\n",
       "0    23364\n",
       "1     6636\n",
       "Name: default, dtype: int64"
      ]
     },
     "execution_count": 4,
     "metadata": {},
     "output_type": "execute_result"
    }
   ],
   "source": [
    "dfx=dum_df.groupby(['default'])['default'].count()\n",
    "dfx"
   ]
  },
  {
   "cell_type": "code",
   "execution_count": 209,
   "metadata": {},
   "outputs": [
    {
     "name": "stdout",
     "output_type": "stream",
     "text": [
      "22.12 %\n"
     ]
    }
   ],
   "source": [
    "a=(6636/(23364+6636))*100\n",
    "print(round(a,2),'%')"
   ]
  },
  {
   "attachments": {},
   "cell_type": "markdown",
   "metadata": {},
   "source": [
    "......... dados desbalanceados!!!!!!"
   ]
  },
  {
   "cell_type": "code",
   "execution_count": 67,
   "metadata": {},
   "outputs": [],
   "source": [
    "df_X = dum_df.drop(['default'], axis=1)\n",
    "df_y = dum_df.default\n",
    "\n",
    "X_train, X_test, y_train, y_test = train_test_split(df_X, df_y, test_size=0.3, random_state=10)"
   ]
  },
  {
   "attachments": {},
   "cell_type": "markdown",
   "metadata": {},
   "source": [
    "### XGB"
   ]
  },
  {
   "cell_type": "code",
   "execution_count": 12,
   "metadata": {},
   "outputs": [],
   "source": [
    "xgb_clf = xgb.XGBClassifier()\n",
    "xgb_clf = xgb_clf.fit(X_train, y_train)"
   ]
  },
  {
   "cell_type": "code",
   "execution_count": 13,
   "metadata": {},
   "outputs": [
    {
     "name": "stdout",
     "output_type": "stream",
     "text": [
      "              precision    recall  f1-score   support\n",
      "\n",
      "           0       0.94      0.84      0.89      7864\n",
      "           1       0.37      0.65      0.47      1136\n",
      "\n",
      "    accuracy                           0.81      9000\n",
      "   macro avg       0.65      0.74      0.68      9000\n",
      "weighted avg       0.87      0.81      0.83      9000\n",
      "\n",
      "[[6585 1279]\n",
      " [ 397  739]]\n",
      "\n",
      "Accuracy Score for model XGB:  0.81\n"
     ]
    }
   ],
   "source": [
    "y_pred0 = xgb_clf.predict(X_test)\n",
    "\n",
    "print(classification_report(y_pred0, y_test))\n",
    "print(confusion_matrix(y_pred0, y_test))\n",
    "print('\\nAccuracy Score for model XGB: ', round(accuracy_score(y_pred0,y_test),2))"
   ]
  },
  {
   "attachments": {},
   "cell_type": "markdown",
   "metadata": {},
   "source": [
    "### LOGISTICA"
   ]
  },
  {
   "cell_type": "code",
   "execution_count": 14,
   "metadata": {},
   "outputs": [
    {
     "name": "stdout",
     "output_type": "stream",
     "text": [
      "              precision    recall  f1-score   support\n",
      "\n",
      "           0       0.58      0.84      0.69      4818\n",
      "           1       0.63      0.30      0.41      4182\n",
      "\n",
      "    accuracy                           0.59      9000\n",
      "   macro avg       0.61      0.57      0.55      9000\n",
      "weighted avg       0.60      0.59      0.56      9000\n",
      "\n",
      "[[4067  751]\n",
      " [2915 1267]]\n",
      "\n",
      "Accuracy Score for model LR:  0.59\n"
     ]
    }
   ],
   "source": [
    "model1 = LogisticRegression(class_weight='balanced')\n",
    "model1 = model1.fit(X_train, y_train)\n",
    "\n",
    "y_pred = model1.predict(X_test)\n",
    "\n",
    "print(classification_report(y_pred, y_test))\n",
    "print(confusion_matrix(y_pred, y_test))\n",
    "print('\\nAccuracy Score for model LR: ', round(accuracy_score(y_pred,y_test),2))"
   ]
  },
  {
   "attachments": {},
   "cell_type": "markdown",
   "metadata": {},
   "source": [
    "### MLP"
   ]
  },
  {
   "cell_type": "code",
   "execution_count": 11,
   "metadata": {},
   "outputs": [
    {
     "name": "stdout",
     "output_type": "stream",
     "text": [
      "              precision    recall  f1-score   support\n",
      "\n",
      "           0       0.85      0.83      0.84      4805\n",
      "           1       0.38      0.42      0.40      1195\n",
      "\n",
      "    accuracy                           0.75      6000\n",
      "   macro avg       0.62      0.62      0.62      6000\n",
      "weighted avg       0.76      0.75      0.75      6000\n",
      "\n",
      "[[3988  817]\n",
      " [ 695  500]]\n",
      "\n",
      "Accuracy Score for model MLP:  0.75\n"
     ]
    }
   ],
   "source": [
    "clf = MLPClassifier(random_state=1, max_iter=500).fit(X_train, y_train)\n",
    "y_pred = clf.predict(X_test)\n",
    "print(classification_report(y_pred, y_test))\n",
    "print(confusion_matrix(y_pred, y_test))\n",
    "print('\\nAccuracy Score for model MLP: ', round(accuracy_score(y_pred,y_test),2))"
   ]
  },
  {
   "attachments": {},
   "cell_type": "markdown",
   "metadata": {},
   "source": [
    "### RANDOM FOREST"
   ]
  },
  {
   "cell_type": "code",
   "execution_count": 15,
   "metadata": {},
   "outputs": [
    {
     "name": "stdout",
     "output_type": "stream",
     "text": [
      "              precision    recall  f1-score   support\n",
      "\n",
      "           0       0.95      0.83      0.89      8000\n",
      "           1       0.34      0.68      0.45      1000\n",
      "\n",
      "    accuracy                           0.82      9000\n",
      "   macro avg       0.65      0.76      0.67      9000\n",
      "weighted avg       0.89      0.82      0.84      9000\n",
      "\n",
      "[[6666 1334]\n",
      " [ 316  684]]\n",
      "\n",
      "Accuracy Score for model Random Forest:  0.82\n"
     ]
    }
   ],
   "source": [
    "SEED=123143\n",
    "random.seed(SEED)\n",
    "classificador = RandomForestClassifier(n_estimators=100,class_weight='balanced')\n",
    "classificador = classificador.fit(X_train,y_train)\n",
    "y_pred2 = classificador.predict(X_test)\n",
    "\n",
    "print(classification_report(y_pred2, y_test))\n",
    "print(confusion_matrix(y_pred2, y_test))\n",
    "print('\\nAccuracy Score for model Random Forest: ', round(accuracy_score(y_pred2,y_test),2))"
   ]
  },
  {
   "attachments": {},
   "cell_type": "markdown",
   "metadata": {},
   "source": [
    "### Matriz KS"
   ]
  },
  {
   "attachments": {},
   "cell_type": "markdown",
   "metadata": {},
   "source": [
    "diferença entre os acertivos e os não acertivos, testando a distribuição"
   ]
  },
  {
   "cell_type": "code",
   "execution_count": 33,
   "metadata": {},
   "outputs": [],
   "source": [
    "rank1 = X_test._get_numeric_data()\n",
    "rfc = rank1._get_numeric_data()\n",
    "#p1=xgb_clf.predict_proba(X_test)\n",
    "#p1=classificador.predict_proba(X_test)\n",
    "p1=classificador.predict_proba(X_test)\n",
    "p2=p1[:,1]"
   ]
  },
  {
   "cell_type": "code",
   "execution_count": 17,
   "metadata": {},
   "outputs": [
    {
     "data": {
      "text/html": [
       "<div>\n",
       "<style scoped>\n",
       "    .dataframe tbody tr th:only-of-type {\n",
       "        vertical-align: middle;\n",
       "    }\n",
       "\n",
       "    .dataframe tbody tr th {\n",
       "        vertical-align: top;\n",
       "    }\n",
       "\n",
       "    .dataframe thead th {\n",
       "        text-align: right;\n",
       "    }\n",
       "</style>\n",
       "<table border=\"1\" class=\"dataframe\">\n",
       "  <thead>\n",
       "    <tr style=\"text-align: right;\">\n",
       "      <th></th>\n",
       "      <th>ID</th>\n",
       "      <th>LIMIT_BAL</th>\n",
       "      <th>SEX</th>\n",
       "      <th>EDUCATION</th>\n",
       "      <th>MARRIAGE</th>\n",
       "      <th>AGE</th>\n",
       "      <th>PAY_0</th>\n",
       "      <th>PAY_2</th>\n",
       "      <th>PAY_3</th>\n",
       "      <th>PAY_4</th>\n",
       "      <th>...</th>\n",
       "      <th>BILL_AMT5</th>\n",
       "      <th>BILL_AMT6</th>\n",
       "      <th>PAY_AMT1</th>\n",
       "      <th>PAY_AMT2</th>\n",
       "      <th>PAY_AMT3</th>\n",
       "      <th>PAY_AMT4</th>\n",
       "      <th>PAY_AMT5</th>\n",
       "      <th>PAY_AMT6</th>\n",
       "      <th>prob</th>\n",
       "      <th>deafult</th>\n",
       "    </tr>\n",
       "  </thead>\n",
       "  <tbody>\n",
       "    <tr>\n",
       "      <th>20412</th>\n",
       "      <td>20413</td>\n",
       "      <td>160000.0</td>\n",
       "      <td>1</td>\n",
       "      <td>1</td>\n",
       "      <td>2</td>\n",
       "      <td>26</td>\n",
       "      <td>-1</td>\n",
       "      <td>-1</td>\n",
       "      <td>-1</td>\n",
       "      <td>-1</td>\n",
       "      <td>...</td>\n",
       "      <td>46397.0</td>\n",
       "      <td>32334.0</td>\n",
       "      <td>15134.0</td>\n",
       "      <td>15199.0</td>\n",
       "      <td>10845.0</td>\n",
       "      <td>46397.0</td>\n",
       "      <td>1280.0</td>\n",
       "      <td>15000.0</td>\n",
       "      <td>0.04</td>\n",
       "      <td>0</td>\n",
       "    </tr>\n",
       "    <tr>\n",
       "      <th>1296</th>\n",
       "      <td>1297</td>\n",
       "      <td>50000.0</td>\n",
       "      <td>1</td>\n",
       "      <td>2</td>\n",
       "      <td>2</td>\n",
       "      <td>29</td>\n",
       "      <td>1</td>\n",
       "      <td>2</td>\n",
       "      <td>2</td>\n",
       "      <td>2</td>\n",
       "      <td>...</td>\n",
       "      <td>39744.0</td>\n",
       "      <td>40533.0</td>\n",
       "      <td>0.0</td>\n",
       "      <td>4500.0</td>\n",
       "      <td>0.0</td>\n",
       "      <td>1600.0</td>\n",
       "      <td>1600.0</td>\n",
       "      <td>1600.0</td>\n",
       "      <td>0.35</td>\n",
       "      <td>0</td>\n",
       "    </tr>\n",
       "    <tr>\n",
       "      <th>3906</th>\n",
       "      <td>3907</td>\n",
       "      <td>380000.0</td>\n",
       "      <td>2</td>\n",
       "      <td>1</td>\n",
       "      <td>1</td>\n",
       "      <td>33</td>\n",
       "      <td>0</td>\n",
       "      <td>0</td>\n",
       "      <td>0</td>\n",
       "      <td>0</td>\n",
       "      <td>...</td>\n",
       "      <td>203377.0</td>\n",
       "      <td>185056.0</td>\n",
       "      <td>4677.0</td>\n",
       "      <td>130533.0</td>\n",
       "      <td>7609.0</td>\n",
       "      <td>12000.0</td>\n",
       "      <td>7000.0</td>\n",
       "      <td>6000.0</td>\n",
       "      <td>0.09</td>\n",
       "      <td>0</td>\n",
       "    </tr>\n",
       "    <tr>\n",
       "      <th>20454</th>\n",
       "      <td>20455</td>\n",
       "      <td>400000.0</td>\n",
       "      <td>1</td>\n",
       "      <td>1</td>\n",
       "      <td>2</td>\n",
       "      <td>26</td>\n",
       "      <td>0</td>\n",
       "      <td>0</td>\n",
       "      <td>0</td>\n",
       "      <td>0</td>\n",
       "      <td>...</td>\n",
       "      <td>129047.0</td>\n",
       "      <td>75427.0</td>\n",
       "      <td>8006.0</td>\n",
       "      <td>123692.0</td>\n",
       "      <td>7002.0</td>\n",
       "      <td>8167.0</td>\n",
       "      <td>3996.0</td>\n",
       "      <td>2000.0</td>\n",
       "      <td>0.05</td>\n",
       "      <td>0</td>\n",
       "    </tr>\n",
       "    <tr>\n",
       "      <th>5200</th>\n",
       "      <td>5201</td>\n",
       "      <td>60000.0</td>\n",
       "      <td>2</td>\n",
       "      <td>1</td>\n",
       "      <td>2</td>\n",
       "      <td>34</td>\n",
       "      <td>0</td>\n",
       "      <td>0</td>\n",
       "      <td>0</td>\n",
       "      <td>0</td>\n",
       "      <td>...</td>\n",
       "      <td>26276.0</td>\n",
       "      <td>27012.0</td>\n",
       "      <td>2178.0</td>\n",
       "      <td>1511.0</td>\n",
       "      <td>1200.0</td>\n",
       "      <td>1300.0</td>\n",
       "      <td>1300.0</td>\n",
       "      <td>1252.0</td>\n",
       "      <td>0.08</td>\n",
       "      <td>1</td>\n",
       "    </tr>\n",
       "    <tr>\n",
       "      <th>...</th>\n",
       "      <td>...</td>\n",
       "      <td>...</td>\n",
       "      <td>...</td>\n",
       "      <td>...</td>\n",
       "      <td>...</td>\n",
       "      <td>...</td>\n",
       "      <td>...</td>\n",
       "      <td>...</td>\n",
       "      <td>...</td>\n",
       "      <td>...</td>\n",
       "      <td>...</td>\n",
       "      <td>...</td>\n",
       "      <td>...</td>\n",
       "      <td>...</td>\n",
       "      <td>...</td>\n",
       "      <td>...</td>\n",
       "      <td>...</td>\n",
       "      <td>...</td>\n",
       "      <td>...</td>\n",
       "      <td>...</td>\n",
       "      <td>...</td>\n",
       "    </tr>\n",
       "    <tr>\n",
       "      <th>20777</th>\n",
       "      <td>20778</td>\n",
       "      <td>410000.0</td>\n",
       "      <td>1</td>\n",
       "      <td>1</td>\n",
       "      <td>2</td>\n",
       "      <td>32</td>\n",
       "      <td>-1</td>\n",
       "      <td>0</td>\n",
       "      <td>-1</td>\n",
       "      <td>-1</td>\n",
       "      <td>...</td>\n",
       "      <td>4695.0</td>\n",
       "      <td>4133.0</td>\n",
       "      <td>10000.0</td>\n",
       "      <td>7764.0</td>\n",
       "      <td>623.0</td>\n",
       "      <td>4695.0</td>\n",
       "      <td>5973.0</td>\n",
       "      <td>4421.0</td>\n",
       "      <td>0.01</td>\n",
       "      <td>0</td>\n",
       "    </tr>\n",
       "    <tr>\n",
       "      <th>25221</th>\n",
       "      <td>25222</td>\n",
       "      <td>130000.0</td>\n",
       "      <td>2</td>\n",
       "      <td>3</td>\n",
       "      <td>2</td>\n",
       "      <td>24</td>\n",
       "      <td>0</td>\n",
       "      <td>0</td>\n",
       "      <td>0</td>\n",
       "      <td>0</td>\n",
       "      <td>...</td>\n",
       "      <td>58593.0</td>\n",
       "      <td>60504.0</td>\n",
       "      <td>4600.0</td>\n",
       "      <td>4500.0</td>\n",
       "      <td>2802.0</td>\n",
       "      <td>2050.0</td>\n",
       "      <td>2800.0</td>\n",
       "      <td>2300.0</td>\n",
       "      <td>0.08</td>\n",
       "      <td>1</td>\n",
       "    </tr>\n",
       "    <tr>\n",
       "      <th>23507</th>\n",
       "      <td>23508</td>\n",
       "      <td>170000.0</td>\n",
       "      <td>2</td>\n",
       "      <td>1</td>\n",
       "      <td>2</td>\n",
       "      <td>32</td>\n",
       "      <td>-1</td>\n",
       "      <td>-1</td>\n",
       "      <td>-1</td>\n",
       "      <td>-1</td>\n",
       "      <td>...</td>\n",
       "      <td>20437.0</td>\n",
       "      <td>8744.0</td>\n",
       "      <td>6593.0</td>\n",
       "      <td>9361.0</td>\n",
       "      <td>22222.0</td>\n",
       "      <td>20437.0</td>\n",
       "      <td>8744.0</td>\n",
       "      <td>3620.0</td>\n",
       "      <td>0.01</td>\n",
       "      <td>0</td>\n",
       "    </tr>\n",
       "    <tr>\n",
       "      <th>8582</th>\n",
       "      <td>8583</td>\n",
       "      <td>360000.0</td>\n",
       "      <td>2</td>\n",
       "      <td>1</td>\n",
       "      <td>2</td>\n",
       "      <td>47</td>\n",
       "      <td>2</td>\n",
       "      <td>2</td>\n",
       "      <td>3</td>\n",
       "      <td>2</td>\n",
       "      <td>...</td>\n",
       "      <td>258197.0</td>\n",
       "      <td>114052.0</td>\n",
       "      <td>22913.0</td>\n",
       "      <td>7000.0</td>\n",
       "      <td>0.0</td>\n",
       "      <td>8500.0</td>\n",
       "      <td>5145.0</td>\n",
       "      <td>106000.0</td>\n",
       "      <td>0.28</td>\n",
       "      <td>1</td>\n",
       "    </tr>\n",
       "    <tr>\n",
       "      <th>24886</th>\n",
       "      <td>24887</td>\n",
       "      <td>110000.0</td>\n",
       "      <td>1</td>\n",
       "      <td>2</td>\n",
       "      <td>1</td>\n",
       "      <td>42</td>\n",
       "      <td>0</td>\n",
       "      <td>0</td>\n",
       "      <td>0</td>\n",
       "      <td>0</td>\n",
       "      <td>...</td>\n",
       "      <td>51043.0</td>\n",
       "      <td>60581.0</td>\n",
       "      <td>4200.0</td>\n",
       "      <td>4306.0</td>\n",
       "      <td>1662.0</td>\n",
       "      <td>1170.0</td>\n",
       "      <td>60604.0</td>\n",
       "      <td>5000.0</td>\n",
       "      <td>0.13</td>\n",
       "      <td>1</td>\n",
       "    </tr>\n",
       "  </tbody>\n",
       "</table>\n",
       "<p>9000 rows × 26 columns</p>\n",
       "</div>"
      ],
      "text/plain": [
       "          ID  LIMIT_BAL  SEX  EDUCATION  MARRIAGE  AGE  PAY_0  PAY_2  PAY_3  \\\n",
       "20412  20413   160000.0    1          1         2   26     -1     -1     -1   \n",
       "1296    1297    50000.0    1          2         2   29      1      2      2   \n",
       "3906    3907   380000.0    2          1         1   33      0      0      0   \n",
       "20454  20455   400000.0    1          1         2   26      0      0      0   \n",
       "5200    5201    60000.0    2          1         2   34      0      0      0   \n",
       "...      ...        ...  ...        ...       ...  ...    ...    ...    ...   \n",
       "20777  20778   410000.0    1          1         2   32     -1      0     -1   \n",
       "25221  25222   130000.0    2          3         2   24      0      0      0   \n",
       "23507  23508   170000.0    2          1         2   32     -1     -1     -1   \n",
       "8582    8583   360000.0    2          1         2   47      2      2      3   \n",
       "24886  24887   110000.0    1          2         1   42      0      0      0   \n",
       "\n",
       "       PAY_4  ...  BILL_AMT5  BILL_AMT6  PAY_AMT1  PAY_AMT2  PAY_AMT3  \\\n",
       "20412     -1  ...    46397.0    32334.0   15134.0   15199.0   10845.0   \n",
       "1296       2  ...    39744.0    40533.0       0.0    4500.0       0.0   \n",
       "3906       0  ...   203377.0   185056.0    4677.0  130533.0    7609.0   \n",
       "20454      0  ...   129047.0    75427.0    8006.0  123692.0    7002.0   \n",
       "5200       0  ...    26276.0    27012.0    2178.0    1511.0    1200.0   \n",
       "...      ...  ...        ...        ...       ...       ...       ...   \n",
       "20777     -1  ...     4695.0     4133.0   10000.0    7764.0     623.0   \n",
       "25221      0  ...    58593.0    60504.0    4600.0    4500.0    2802.0   \n",
       "23507     -1  ...    20437.0     8744.0    6593.0    9361.0   22222.0   \n",
       "8582       2  ...   258197.0   114052.0   22913.0    7000.0       0.0   \n",
       "24886      0  ...    51043.0    60581.0    4200.0    4306.0    1662.0   \n",
       "\n",
       "       PAY_AMT4  PAY_AMT5  PAY_AMT6  prob  deafult  \n",
       "20412   46397.0    1280.0   15000.0  0.04        0  \n",
       "1296     1600.0    1600.0    1600.0  0.35        0  \n",
       "3906    12000.0    7000.0    6000.0  0.09        0  \n",
       "20454    8167.0    3996.0    2000.0  0.05        0  \n",
       "5200     1300.0    1300.0    1252.0  0.08        1  \n",
       "...         ...       ...       ...   ...      ...  \n",
       "20777    4695.0    5973.0    4421.0  0.01        0  \n",
       "25221    2050.0    2800.0    2300.0  0.08        1  \n",
       "23507   20437.0    8744.0    3620.0  0.01        0  \n",
       "8582     8500.0    5145.0  106000.0  0.28        1  \n",
       "24886    1170.0   60604.0    5000.0  0.13        1  \n",
       "\n",
       "[9000 rows x 26 columns]"
      ]
     },
     "execution_count": 17,
     "metadata": {},
     "output_type": "execute_result"
    }
   ],
   "source": [
    "rfc['prob'] = p2\n",
    "rfc['deafult'] = y_test\n",
    "rfc\n"
   ]
  },
  {
   "cell_type": "code",
   "execution_count": 18,
   "metadata": {},
   "outputs": [
    {
     "data": {
      "text/html": [
       "<div>\n",
       "<style scoped>\n",
       "    .dataframe tbody tr th:only-of-type {\n",
       "        vertical-align: middle;\n",
       "    }\n",
       "\n",
       "    .dataframe tbody tr th {\n",
       "        vertical-align: top;\n",
       "    }\n",
       "\n",
       "    .dataframe thead th {\n",
       "        text-align: right;\n",
       "    }\n",
       "</style>\n",
       "<table border=\"1\" class=\"dataframe\">\n",
       "  <thead>\n",
       "    <tr style=\"text-align: right;\">\n",
       "      <th></th>\n",
       "      <th>deafult</th>\n",
       "      <th>prob</th>\n",
       "      <th>ranks</th>\n",
       "      <th>decile</th>\n",
       "    </tr>\n",
       "  </thead>\n",
       "  <tbody>\n",
       "    <tr>\n",
       "      <th>27247</th>\n",
       "      <td>0</td>\n",
       "      <td>0.0</td>\n",
       "      <td>1.0</td>\n",
       "      <td>0</td>\n",
       "    </tr>\n",
       "    <tr>\n",
       "      <th>4512</th>\n",
       "      <td>0</td>\n",
       "      <td>0.0</td>\n",
       "      <td>2.0</td>\n",
       "      <td>0</td>\n",
       "    </tr>\n",
       "    <tr>\n",
       "      <th>26042</th>\n",
       "      <td>0</td>\n",
       "      <td>0.0</td>\n",
       "      <td>3.0</td>\n",
       "      <td>0</td>\n",
       "    </tr>\n",
       "    <tr>\n",
       "      <th>24853</th>\n",
       "      <td>0</td>\n",
       "      <td>0.0</td>\n",
       "      <td>4.0</td>\n",
       "      <td>0</td>\n",
       "    </tr>\n",
       "    <tr>\n",
       "      <th>20019</th>\n",
       "      <td>0</td>\n",
       "      <td>0.0</td>\n",
       "      <td>5.0</td>\n",
       "      <td>0</td>\n",
       "    </tr>\n",
       "  </tbody>\n",
       "</table>\n",
       "</div>"
      ],
      "text/plain": [
       "       deafult  prob  ranks  decile\n",
       "27247        0   0.0    1.0       0\n",
       "4512         0   0.0    2.0       0\n",
       "26042        0   0.0    3.0       0\n",
       "24853        0   0.0    4.0       0\n",
       "20019        0   0.0    5.0       0"
      ]
     },
     "execution_count": 18,
     "metadata": {},
     "output_type": "execute_result"
    }
   ],
   "source": [
    "rank = rfc.loc[:, ['deafult', 'prob']]\n",
    "rank[\"ranks\"] = rank['prob'].rank(method=\"first\")\n",
    "\n",
    "rank['decile'] = pd.qcut(rank.prob, 10, labels=False, duplicates='drop') \n",
    "\n",
    "min_prob = np.min(rank.prob)\n",
    "rank.loc[(rank.prob == min_prob)].head()"
   ]
  },
  {
   "cell_type": "code",
   "execution_count": 19,
   "metadata": {},
   "outputs": [
    {
     "data": {
      "text/html": [
       "<div>\n",
       "<style scoped>\n",
       "    .dataframe tbody tr th:only-of-type {\n",
       "        vertical-align: middle;\n",
       "    }\n",
       "\n",
       "    .dataframe tbody tr th {\n",
       "        vertical-align: top;\n",
       "    }\n",
       "\n",
       "    .dataframe thead th {\n",
       "        text-align: right;\n",
       "    }\n",
       "</style>\n",
       "<table border=\"1\" class=\"dataframe\">\n",
       "  <thead>\n",
       "    <tr style=\"text-align: right;\">\n",
       "      <th></th>\n",
       "      <th>decile</th>\n",
       "      <th>min_prob</th>\n",
       "      <th>max_prob</th>\n",
       "      <th>avg_prob</th>\n",
       "      <th>cnt_cust</th>\n",
       "      <th>cnt_def</th>\n",
       "      <th>cnt_non_def</th>\n",
       "      <th>drate</th>\n",
       "      <th>cum_cust</th>\n",
       "      <th>cum_def</th>\n",
       "      <th>cum_non_def</th>\n",
       "      <th>cum_cust_pct</th>\n",
       "      <th>cum_def_pct</th>\n",
       "      <th>cum_non_def_pct</th>\n",
       "      <th>KS</th>\n",
       "      <th>Lift</th>\n",
       "    </tr>\n",
       "  </thead>\n",
       "  <tbody>\n",
       "    <tr>\n",
       "      <th>9</th>\n",
       "      <td>9</td>\n",
       "      <td>0.54</td>\n",
       "      <td>1.00</td>\n",
       "      <td>0.691723</td>\n",
       "      <td>882.0</td>\n",
       "      <td>611.0</td>\n",
       "      <td>271.0</td>\n",
       "      <td>69.27</td>\n",
       "      <td>882.0</td>\n",
       "      <td>611.0</td>\n",
       "      <td>271.0</td>\n",
       "      <td>9.80</td>\n",
       "      <td>30.28</td>\n",
       "      <td>3.88</td>\n",
       "      <td>26.40</td>\n",
       "      <td>7.80</td>\n",
       "    </tr>\n",
       "    <tr>\n",
       "      <th>8</th>\n",
       "      <td>8</td>\n",
       "      <td>0.34</td>\n",
       "      <td>0.53</td>\n",
       "      <td>0.426334</td>\n",
       "      <td>911.0</td>\n",
       "      <td>402.0</td>\n",
       "      <td>509.0</td>\n",
       "      <td>44.13</td>\n",
       "      <td>1793.0</td>\n",
       "      <td>1013.0</td>\n",
       "      <td>780.0</td>\n",
       "      <td>19.92</td>\n",
       "      <td>50.20</td>\n",
       "      <td>11.17</td>\n",
       "      <td>39.03</td>\n",
       "      <td>4.49</td>\n",
       "    </tr>\n",
       "    <tr>\n",
       "      <th>7</th>\n",
       "      <td>7</td>\n",
       "      <td>0.25</td>\n",
       "      <td>0.33</td>\n",
       "      <td>0.283977</td>\n",
       "      <td>797.0</td>\n",
       "      <td>203.0</td>\n",
       "      <td>594.0</td>\n",
       "      <td>25.47</td>\n",
       "      <td>2590.0</td>\n",
       "      <td>1216.0</td>\n",
       "      <td>1374.0</td>\n",
       "      <td>28.78</td>\n",
       "      <td>60.26</td>\n",
       "      <td>19.68</td>\n",
       "      <td>40.58</td>\n",
       "      <td>3.06</td>\n",
       "    </tr>\n",
       "    <tr>\n",
       "      <th>6</th>\n",
       "      <td>6</td>\n",
       "      <td>0.20</td>\n",
       "      <td>0.24</td>\n",
       "      <td>0.217804</td>\n",
       "      <td>879.0</td>\n",
       "      <td>174.0</td>\n",
       "      <td>705.0</td>\n",
       "      <td>19.80</td>\n",
       "      <td>3469.0</td>\n",
       "      <td>1390.0</td>\n",
       "      <td>2079.0</td>\n",
       "      <td>38.54</td>\n",
       "      <td>68.88</td>\n",
       "      <td>29.78</td>\n",
       "      <td>39.10</td>\n",
       "      <td>2.31</td>\n",
       "    </tr>\n",
       "    <tr>\n",
       "      <th>5</th>\n",
       "      <td>5</td>\n",
       "      <td>0.17</td>\n",
       "      <td>0.19</td>\n",
       "      <td>0.179385</td>\n",
       "      <td>732.0</td>\n",
       "      <td>131.0</td>\n",
       "      <td>601.0</td>\n",
       "      <td>17.90</td>\n",
       "      <td>4201.0</td>\n",
       "      <td>1521.0</td>\n",
       "      <td>2680.0</td>\n",
       "      <td>46.68</td>\n",
       "      <td>75.37</td>\n",
       "      <td>38.38</td>\n",
       "      <td>36.99</td>\n",
       "      <td>1.96</td>\n",
       "    </tr>\n",
       "    <tr>\n",
       "      <th>4</th>\n",
       "      <td>4</td>\n",
       "      <td>0.14</td>\n",
       "      <td>0.16</td>\n",
       "      <td>0.149687</td>\n",
       "      <td>958.0</td>\n",
       "      <td>169.0</td>\n",
       "      <td>789.0</td>\n",
       "      <td>17.64</td>\n",
       "      <td>5159.0</td>\n",
       "      <td>1690.0</td>\n",
       "      <td>3469.0</td>\n",
       "      <td>57.32</td>\n",
       "      <td>83.75</td>\n",
       "      <td>49.68</td>\n",
       "      <td>34.07</td>\n",
       "      <td>1.69</td>\n",
       "    </tr>\n",
       "    <tr>\n",
       "      <th>3</th>\n",
       "      <td>3</td>\n",
       "      <td>0.11</td>\n",
       "      <td>0.13</td>\n",
       "      <td>0.119906</td>\n",
       "      <td>1060.0</td>\n",
       "      <td>123.0</td>\n",
       "      <td>937.0</td>\n",
       "      <td>11.60</td>\n",
       "      <td>6219.0</td>\n",
       "      <td>1813.0</td>\n",
       "      <td>4406.0</td>\n",
       "      <td>69.10</td>\n",
       "      <td>89.84</td>\n",
       "      <td>63.11</td>\n",
       "      <td>26.73</td>\n",
       "      <td>1.42</td>\n",
       "    </tr>\n",
       "    <tr>\n",
       "      <th>2</th>\n",
       "      <td>2</td>\n",
       "      <td>0.09</td>\n",
       "      <td>0.10</td>\n",
       "      <td>0.095027</td>\n",
       "      <td>742.0</td>\n",
       "      <td>73.0</td>\n",
       "      <td>669.0</td>\n",
       "      <td>9.84</td>\n",
       "      <td>6961.0</td>\n",
       "      <td>1886.0</td>\n",
       "      <td>5075.0</td>\n",
       "      <td>77.34</td>\n",
       "      <td>93.46</td>\n",
       "      <td>72.69</td>\n",
       "      <td>20.77</td>\n",
       "      <td>1.29</td>\n",
       "    </tr>\n",
       "    <tr>\n",
       "      <th>1</th>\n",
       "      <td>1</td>\n",
       "      <td>0.06</td>\n",
       "      <td>0.08</td>\n",
       "      <td>0.070297</td>\n",
       "      <td>942.0</td>\n",
       "      <td>71.0</td>\n",
       "      <td>871.0</td>\n",
       "      <td>7.54</td>\n",
       "      <td>7903.0</td>\n",
       "      <td>1957.0</td>\n",
       "      <td>5946.0</td>\n",
       "      <td>87.81</td>\n",
       "      <td>96.98</td>\n",
       "      <td>85.16</td>\n",
       "      <td>11.82</td>\n",
       "      <td>1.14</td>\n",
       "    </tr>\n",
       "    <tr>\n",
       "      <th>0</th>\n",
       "      <td>0</td>\n",
       "      <td>0.00</td>\n",
       "      <td>0.05</td>\n",
       "      <td>0.031367</td>\n",
       "      <td>1097.0</td>\n",
       "      <td>61.0</td>\n",
       "      <td>1036.0</td>\n",
       "      <td>5.56</td>\n",
       "      <td>9000.0</td>\n",
       "      <td>2018.0</td>\n",
       "      <td>6982.0</td>\n",
       "      <td>100.00</td>\n",
       "      <td>100.00</td>\n",
       "      <td>100.00</td>\n",
       "      <td>0.00</td>\n",
       "      <td>1.00</td>\n",
       "    </tr>\n",
       "  </tbody>\n",
       "</table>\n",
       "</div>"
      ],
      "text/plain": [
       "   decile  min_prob  max_prob  avg_prob  cnt_cust  cnt_def  cnt_non_def  \\\n",
       "9       9      0.54      1.00  0.691723     882.0    611.0        271.0   \n",
       "8       8      0.34      0.53  0.426334     911.0    402.0        509.0   \n",
       "7       7      0.25      0.33  0.283977     797.0    203.0        594.0   \n",
       "6       6      0.20      0.24  0.217804     879.0    174.0        705.0   \n",
       "5       5      0.17      0.19  0.179385     732.0    131.0        601.0   \n",
       "4       4      0.14      0.16  0.149687     958.0    169.0        789.0   \n",
       "3       3      0.11      0.13  0.119906    1060.0    123.0        937.0   \n",
       "2       2      0.09      0.10  0.095027     742.0     73.0        669.0   \n",
       "1       1      0.06      0.08  0.070297     942.0     71.0        871.0   \n",
       "0       0      0.00      0.05  0.031367    1097.0     61.0       1036.0   \n",
       "\n",
       "   drate  cum_cust  cum_def  cum_non_def  cum_cust_pct  cum_def_pct  \\\n",
       "9  69.27     882.0    611.0        271.0          9.80        30.28   \n",
       "8  44.13    1793.0   1013.0        780.0         19.92        50.20   \n",
       "7  25.47    2590.0   1216.0       1374.0         28.78        60.26   \n",
       "6  19.80    3469.0   1390.0       2079.0         38.54        68.88   \n",
       "5  17.90    4201.0   1521.0       2680.0         46.68        75.37   \n",
       "4  17.64    5159.0   1690.0       3469.0         57.32        83.75   \n",
       "3  11.60    6219.0   1813.0       4406.0         69.10        89.84   \n",
       "2   9.84    6961.0   1886.0       5075.0         77.34        93.46   \n",
       "1   7.54    7903.0   1957.0       5946.0         87.81        96.98   \n",
       "0   5.56    9000.0   2018.0       6982.0        100.00       100.00   \n",
       "\n",
       "   cum_non_def_pct     KS  Lift  \n",
       "9             3.88  26.40  7.80  \n",
       "8            11.17  39.03  4.49  \n",
       "7            19.68  40.58  3.06  \n",
       "6            29.78  39.10  2.31  \n",
       "5            38.38  36.99  1.96  \n",
       "4            49.68  34.07  1.69  \n",
       "3            63.11  26.73  1.42  \n",
       "2            72.69  20.77  1.29  \n",
       "1            85.16  11.82  1.14  \n",
       "0           100.00   0.00  1.00  "
      ]
     },
     "execution_count": 19,
     "metadata": {},
     "output_type": "execute_result"
    }
   ],
   "source": [
    "def rank_order(df: pd.DataFrame, y: str, target: str) -> pd.DataFrame:\n",
    "    \n",
    "    rank = df.groupby('decile').apply(lambda x: pd.Series([\n",
    "        np.min(x[y]),\n",
    "        np.max(x[y]),\n",
    "        np.mean(x[y]),\n",
    "        np.size(x[y]),\n",
    "        np.sum(x[target]),\n",
    "        np.size(x[target][x[target]==0]),\n",
    "    ],\n",
    "        index=([\"min_prob\",\"max_prob\",\"avg_prob\",\n",
    "               \"cnt_cust\",\"cnt_def\",\"cnt_non_def\"])\n",
    "    )).reset_index()\n",
    "    rank = rank.sort_values(by='decile', ascending=False)\n",
    "    rank[\"drate\"] = round(rank[\"cnt_def\"]*100/rank[\"cnt_cust\"], 2)\n",
    "    rank[\"cum_cust\"] = np.cumsum(rank[\"cnt_cust\"])\n",
    "    rank[\"cum_def\"] = np.cumsum(rank[\"cnt_def\"])\n",
    "    rank[\"cum_non_def\"] = np.cumsum(rank[\"cnt_non_def\"])\n",
    "    rank[\"cum_cust_pct\"] = round(rank[\"cum_cust\"]*100/np.sum(rank[\"cnt_cust\"]), 2)\n",
    "    rank[\"cum_def_pct\"] = round(rank[\"cum_def\"]*100/np.sum(rank[\"cnt_def\"]), 2)\n",
    "    rank[\"cum_non_def_pct\"] = round(rank[\"cum_non_def\"]*100/np.sum(rank[\"cnt_non_def\"]), 2)\n",
    "    rank[\"KS\"] = round(rank[\"cum_def_pct\"] - rank[\"cum_non_def_pct\"],2)\n",
    "    rank[\"Lift\"] = round(rank[\"cum_def_pct\"] / rank[\"cum_non_def_pct\"],2)\n",
    "    return rank\n",
    "\n",
    "rank_gains_table = rank_order(rank, \"prob\", \"deafult\")\n",
    "rank_gains_table"
   ]
  },
  {
   "attachments": {},
   "cell_type": "markdown",
   "metadata": {},
   "source": [
    "- def = responsivo\n",
    "- non_def = nao responsivo\n",
    "- cum cust = qnt cumulada"
   ]
  },
  {
   "cell_type": "code",
   "execution_count": 225,
   "metadata": {},
   "outputs": [
    {
     "data": {
      "image/png": "[encoded data removed]",
      "text/plain": [
       "<Figure size 432x288 with 1 Axes>"
      ]
     },
     "metadata": {
      "needs_background": "light"
     },
     "output_type": "display_data"
    }
   ],
   "source": [
    "fig, ax = plt.subplots(nrows = 1, ncols = 1)\n",
    "plt.plot(rank_gains_table1[\"decile\"], rank_gains_table1[\"Lift\"])\n",
    "plt.plot(rank_gains_table1[\"decile\"], rank_gains_table1[\"Lift\"])\n",
    "ax.set_xlim(np.max(rank_gains_table1['decile']),np.min(rank_gains_table1['decile']))\n",
    "plt.plot([0, 9],[1, 1], color='navy', linestyle='--')\n",
    "\n",
    "plt.xlabel(\"Decile\")\n",
    "plt.ylabel(\"Lift\")\n",
    "\n",
    "plt.show()"
   ]
  },
  {
   "attachments": {},
   "cell_type": "markdown",
   "metadata": {},
   "source": [
    "- Se segmentarmos apenas os clientes no decil superior, ou seja, no décimo decil, obteremos um aumento de 7+-\n",
    "- A elevação do cumulativo dos 2 primeiros decis é de 6+-.\n",
    "- Se todos os decis forem considerados, a elevação será 1. Uma elevação de 1 significa que não há ganho em relação à linha de base."
   ]
  },
  {
   "cell_type": "code",
   "execution_count": 215,
   "metadata": {},
   "outputs": [
    {
     "data": {
      "image/png": "[encoded data removed]",
      "text/plain": [
       "<Figure size 432x288 with 1 Axes>"
      ]
     },
     "metadata": {
      "needs_background": "light"
     },
     "output_type": "display_data"
    }
   ],
   "source": [
    "rank_gains_table1 = rank_gains_table.sort_values('decile',ascending=True)\n",
    "\n",
    "fig, ax = plt.subplots(nrows = 1, ncols = 1)\n",
    "plt.plot(rank_gains_table1[\"decile\"], rank_gains_table1[\"cum_non_def_pct\"],label='nao responsivo')\n",
    "plt.plot(rank_gains_table1[\"decile\"], rank_gains_table1[\"cum_def_pct\"],label='responsivo')\n",
    "ax.set_xlim(np.max(rank_gains_table1['decile']),np.min(rank_gains_table1['decile']))\n",
    "plt.legend(loc='lower right')\n",
    "\n",
    "plt.xlabel(\"Decile\")\n",
    "plt.ylabel(\"%\")\n",
    "\n",
    "plt.show()"
   ]
  },
  {
   "attachments": {},
   "cell_type": "markdown",
   "metadata": {},
   "source": [
    "- a diferença do responsivo, do não responsivo é o KS, quanto mais distante , melhor"
   ]
  },
  {
   "cell_type": "code",
   "execution_count": 193,
   "metadata": {},
   "outputs": [
    {
     "data": {
      "text/plain": [
       "[<matplotlib.lines.Line2D at 0x1977905c6a0>]"
      ]
     },
     "execution_count": 193,
     "metadata": {},
     "output_type": "execute_result"
    },
    {
     "data": {
      "image/png": "[encoded data removed]",
      "text/plain": [
       "<Figure size 432x288 with 1 Axes>"
      ]
     },
     "metadata": {
      "needs_background": "light"
     },
     "output_type": "display_data"
    }
   ],
   "source": [
    "plt.plot(rank_gains_table1[\"decile\"], rank_gains_table1[\"KS\"])"
   ]
  },
  {
   "attachments": {},
   "cell_type": "markdown",
   "metadata": {},
   "source": [
    "### ROC"
   ]
  },
  {
   "cell_type": "code",
   "execution_count": 7,
   "metadata": {},
   "outputs": [],
   "source": [
    "def plot_roc_curve(true_y, y_prob):\n",
    "    \"\"\"\n",
    "    plots the roc curve based of the probabilities\n",
    "    \"\"\"\n",
    "\n",
    "    fpr, tpr, thresholds = roc_curve(true_y, y_prob)\n",
    "    plt.plot(fpr, tpr, color='darkorange')\n",
    "    plt.xlabel('False Positive Rate')\n",
    "    plt.ylabel('True Positive Rate')\n",
    "    plt.plot([0, 1], [0, 1], color='navy', linestyle='--')"
   ]
  },
  {
   "cell_type": "code",
   "execution_count": 10,
   "metadata": {},
   "outputs": [
    {
     "data": {
      "image/png": "[encoded data removed]",
      "text/plain": [
       "<Figure size 432x288 with 1 Axes>"
      ]
     },
     "metadata": {
      "needs_background": "light"
     },
     "output_type": "display_data"
    }
   ],
   "source": [
    "plot_roc_curve(y_test, p2)"
   ]
  },
  {
   "cell_type": "markdown",
   "metadata": {},
   "source": [
    "### Bellini Scoring"
   ]
  },
  {
   "cell_type": "code",
   "execution_count": 16,
   "metadata": {},
   "outputs": [],
   "source": [
    "p1=classificador.predict_proba(X_test)\n",
    "p2=p1[:,1]"
   ]
  },
  {
   "cell_type": "code",
   "execution_count": 17,
   "metadata": {},
   "outputs": [
    {
     "data": {
      "text/html": [
       "<div>\n",
       "<style scoped>\n",
       "    .dataframe tbody tr th:only-of-type {\n",
       "        vertical-align: middle;\n",
       "    }\n",
       "\n",
       "    .dataframe tbody tr th {\n",
       "        vertical-align: top;\n",
       "    }\n",
       "\n",
       "    .dataframe thead th {\n",
       "        text-align: right;\n",
       "    }\n",
       "</style>\n",
       "<table border=\"1\" class=\"dataframe\">\n",
       "  <thead>\n",
       "    <tr style=\"text-align: right;\">\n",
       "      <th></th>\n",
       "      <th>proba</th>\n",
       "    </tr>\n",
       "  </thead>\n",
       "  <tbody>\n",
       "    <tr>\n",
       "      <th>count</th>\n",
       "      <td>9000.000000</td>\n",
       "    </tr>\n",
       "    <tr>\n",
       "      <th>mean</th>\n",
       "      <td>0.221024</td>\n",
       "    </tr>\n",
       "    <tr>\n",
       "      <th>std</th>\n",
       "      <td>0.194514</td>\n",
       "    </tr>\n",
       "    <tr>\n",
       "      <th>min</th>\n",
       "      <td>0.000000</td>\n",
       "    </tr>\n",
       "    <tr>\n",
       "      <th>25%</th>\n",
       "      <td>0.090000</td>\n",
       "    </tr>\n",
       "    <tr>\n",
       "      <th>50%</th>\n",
       "      <td>0.160000</td>\n",
       "    </tr>\n",
       "    <tr>\n",
       "      <th>75%</th>\n",
       "      <td>0.280000</td>\n",
       "    </tr>\n",
       "    <tr>\n",
       "      <th>max</th>\n",
       "      <td>1.000000</td>\n",
       "    </tr>\n",
       "  </tbody>\n",
       "</table>\n",
       "</div>"
      ],
      "text/plain": [
       "             proba\n",
       "count  9000.000000\n",
       "mean      0.221024\n",
       "std       0.194514\n",
       "min       0.000000\n",
       "25%       0.090000\n",
       "50%       0.160000\n",
       "75%       0.280000\n",
       "max       1.000000"
      ]
     },
     "execution_count": 17,
     "metadata": {},
     "output_type": "execute_result"
    }
   ],
   "source": [
    "proba_teste_pre=pd.DataFrame(p2,columns=['proba'])\n",
    "proba_teste_pre.describe()"
   ]
  },
  {
   "cell_type": "code",
   "execution_count": 18,
   "metadata": {},
   "outputs": [],
   "source": [
    "target = dum_df[['default']]"
   ]
  },
  {
   "cell_type": "code",
   "execution_count": 19,
   "metadata": {},
   "outputs": [
    {
     "data": {
      "text/plain": [
       "default    3.520796\n",
       "dtype: float64"
      ]
     },
     "execution_count": 19,
     "metadata": {},
     "output_type": "execute_result"
    }
   ],
   "source": [
    "def odds(target):\n",
    "    return (1-np.mean(target)) / np.mean(target)\n",
    "\n",
    "odds(target)"
   ]
  },
  {
   "cell_type": "code",
   "execution_count": 20,
   "metadata": {},
   "outputs": [],
   "source": [
    "def score_scaled (prob,odds,offset,pdo):\n",
    "    b=pdo/np.log(2)\n",
    "    a=offset - b*np.log(odds)\n",
    "    return np.round(a+b*np.log((1-prob)/prob))"
   ]
  },
  {
   "cell_type": "code",
   "execution_count": 87,
   "metadata": {},
   "outputs": [],
   "source": [
    "# odds = 3.520796\n",
    "odds=70\n",
    "offset=660\n",
    "pdo=40"
   ]
  },
  {
   "cell_type": "code",
   "execution_count": 88,
   "metadata": {},
   "outputs": [],
   "source": [
    "set_treino = classificador.predict_proba(X_train)[:,1]\n",
    "set_teste = p2\n",
    "\n",
    "set_treino=pd.DataFrame(set_treino,columns=['proba'])\n",
    "set_teste=pd.DataFrame(set_teste,columns=['proba'])\n",
    "\n",
    "set_treino['score modelo']=score_scaled (set_treino,odds,offset,pdo)\n",
    "set_teste['score modelo']=score_scaled (set_teste,odds,offset,pdo)\n",
    "\n",
    "set_teste.replace([np.inf, -np.inf], 0, inplace=True)\n",
    "set_treino.replace([np.inf, -np.inf], 0, inplace=True)\n",
    "\n",
    "set_teste2=set_teste['score modelo']\n",
    "set_treino2=set_treino['score modelo']"
   ]
  },
  {
   "cell_type": "code",
   "execution_count": 89,
   "metadata": {},
   "outputs": [
    {
     "name": "stdout",
     "output_type": "stream",
     "text": [
      "              proba  score modelo\n",
      "count  21000.000000  21000.000000\n",
      "mean       0.219570    505.420524\n",
      "std        0.301924    155.408448\n",
      "min        0.000000      0.000000\n",
      "25%        0.030000    384.000000\n",
      "50%        0.060000    564.000000\n",
      "75%        0.200000    598.000000\n",
      "max        1.000000    680.000000\n"
     ]
    },
    {
     "data": {
      "image/png": "[encoded data removed]",
      "text/plain": [
       "<Figure size 432x288 with 1 Axes>"
      ]
     },
     "metadata": {
      "needs_background": "light"
     },
     "output_type": "display_data"
    }
   ],
   "source": [
    "sns.histplot(data=set_teste, x=\"score modelo\")\n",
    "print(set_treino.describe())"
   ]
  },
  {
   "cell_type": "code",
   "execution_count": 77,
   "metadata": {},
   "outputs": [],
   "source": [
    "set_treino2 = np.array(set_treino2).reshape(-1, 1)\n",
    "set_teste2 = np.array(set_teste2).reshape(-1, 1)"
   ]
  },
  {
   "cell_type": "code",
   "execution_count": 39,
   "metadata": {},
   "outputs": [
    {
     "data": {
      "text/html": [
       "<style>#sk-container-id-3 {color: black;background-color: white;}#sk-container-id-3 pre{padding: 0;}#sk-container-id-3 div.sk-toggleable {background-color: white;}#sk-container-id-3 label.sk-toggleable__label {cursor: pointer;display: block;width: 100%;margin-bottom: 0;padding: 0.3em;box-sizing: border-box;text-align: center;}#sk-container-id-3 label.sk-toggleable__label-arrow:before {content: \"▸\";float: left;margin-right: 0.25em;color: #696969;}#sk-container-id-3 label.sk-toggleable__label-arrow:hover:before {color: black;}#sk-container-id-3 div.sk-estimator:hover label.sk-toggleable__label-arrow:before {color: black;}#sk-container-id-3 div.sk-toggleable__content {max-height: 0;max-width: 0;overflow: hidden;text-align: left;background-color: #f0f8ff;}#sk-container-id-3 div.sk-toggleable__content pre {margin: 0.2em;color: black;border-radius: 0.25em;background-color: #f0f8ff;}#sk-container-id-3 input.sk-toggleable__control:checked~div.sk-toggleable__content {max-height: 200px;max-width: 100%;overflow: auto;}#sk-container-id-3 input.sk-toggleable__control:checked~label.sk-toggleable__label-arrow:before {content: \"▾\";}#sk-container-id-3 div.sk-estimator input.sk-toggleable__control:checked~label.sk-toggleable__label {background-color: #d4ebff;}#sk-container-id-3 div.sk-label input.sk-toggleable__control:checked~label.sk-toggleable__label {background-color: #d4ebff;}#sk-container-id-3 input.sk-hidden--visually {border: 0;clip: rect(1px 1px 1px 1px);clip: rect(1px, 1px, 1px, 1px);height: 1px;margin: -1px;overflow: hidden;padding: 0;position: absolute;width: 1px;}#sk-container-id-3 div.sk-estimator {font-family: monospace;background-color: #f0f8ff;border: 1px dotted black;border-radius: 0.25em;box-sizing: border-box;margin-bottom: 0.5em;}#sk-container-id-3 div.sk-estimator:hover {background-color: #d4ebff;}#sk-container-id-3 div.sk-parallel-item::after {content: \"\";width: 100%;border-bottom: 1px solid gray;flex-grow: 1;}#sk-container-id-3 div.sk-label:hover label.sk-toggleable__label {background-color: #d4ebff;}#sk-container-id-3 div.sk-serial::before {content: \"\";position: absolute;border-left: 1px solid gray;box-sizing: border-box;top: 0;bottom: 0;left: 50%;z-index: 0;}#sk-container-id-3 div.sk-serial {display: flex;flex-direction: column;align-items: center;background-color: white;padding-right: 0.2em;padding-left: 0.2em;position: relative;}#sk-container-id-3 div.sk-item {position: relative;z-index: 1;}#sk-container-id-3 div.sk-parallel {display: flex;align-items: stretch;justify-content: center;background-color: white;position: relative;}#sk-container-id-3 div.sk-item::before, #sk-container-id-3 div.sk-parallel-item::before {content: \"\";position: absolute;border-left: 1px solid gray;box-sizing: border-box;top: 0;bottom: 0;left: 50%;z-index: -1;}#sk-container-id-3 div.sk-parallel-item {display: flex;flex-direction: column;z-index: 1;position: relative;background-color: white;}#sk-container-id-3 div.sk-parallel-item:first-child::after {align-self: flex-end;width: 50%;}#sk-container-id-3 div.sk-parallel-item:last-child::after {align-self: flex-start;width: 50%;}#sk-container-id-3 div.sk-parallel-item:only-child::after {width: 0;}#sk-container-id-3 div.sk-dashed-wrapped {border: 1px dashed gray;margin: 0 0.4em 0.5em 0.4em;box-sizing: border-box;padding-bottom: 0.4em;background-color: white;}#sk-container-id-3 div.sk-label label {font-family: monospace;font-weight: bold;display: inline-block;line-height: 1.2em;}#sk-container-id-3 div.sk-label-container {text-align: center;}#sk-container-id-3 div.sk-container {/* jupyter's `normalize.less` sets `[hidden] { display: none; }` but bootstrap.min.css set `[hidden] { display: none !important; }` so we also need the `!important` here to be able to override the default hidden behavior on the sphinx rendered scikit-learn.org. See: https://github.com/scikit-learn/scikit-learn/issues/21755 */display: inline-block !important;position: relative;}#sk-container-id-3 div.sk-text-repr-fallback {display: none;}</style><div id=\"sk-container-id-3\" class=\"sk-top-container\"><div class=\"sk-text-repr-fallback\"><pre>LogisticRegression()</pre><b>In a Jupyter environment, please rerun this cell to show the HTML representation or trust the notebook. <br />On GitHub, the HTML representation is unable to render, please try loading this page with nbviewer.org.</b></div><div class=\"sk-container\" hidden><div class=\"sk-item\"><div class=\"sk-estimator sk-toggleable\"><input class=\"sk-toggleable__control sk-hidden--visually\" id=\"sk-estimator-id-3\" type=\"checkbox\" checked><label for=\"sk-estimator-id-3\" class=\"sk-toggleable__label sk-toggleable__label-arrow\">LogisticRegression</label><div class=\"sk-toggleable__content\"><pre>LogisticRegression()</pre></div></div></div></div></div>"
      ],
      "text/plain": [
       "LogisticRegression()"
      ]
     },
     "execution_count": 39,
     "metadata": {},
     "output_type": "execute_result"
    }
   ],
   "source": [
    "logreg=LogisticRegression()\n",
    "logreg.fit(set_treino2,y_train)"
   ]
  },
  {
   "cell_type": "code",
   "execution_count": 40,
   "metadata": {},
   "outputs": [],
   "source": [
    "proba_teste = logreg.predict_proba(set_teste2)[:,1]\n",
    "proba_teste=pd.DataFrame(proba_teste,columns=['proba'])"
   ]
  },
  {
   "cell_type": "code",
   "execution_count": 41,
   "metadata": {},
   "outputs": [
    {
     "data": {
      "text/html": [
       "<div>\n",
       "<style scoped>\n",
       "    .dataframe tbody tr th:only-of-type {\n",
       "        vertical-align: middle;\n",
       "    }\n",
       "\n",
       "    .dataframe tbody tr th {\n",
       "        vertical-align: top;\n",
       "    }\n",
       "\n",
       "    .dataframe thead th {\n",
       "        text-align: right;\n",
       "    }\n",
       "</style>\n",
       "<table border=\"1\" class=\"dataframe\">\n",
       "  <thead>\n",
       "    <tr style=\"text-align: right;\">\n",
       "      <th></th>\n",
       "      <th>proba</th>\n",
       "    </tr>\n",
       "  </thead>\n",
       "  <tbody>\n",
       "    <tr>\n",
       "      <th>count</th>\n",
       "      <td>9000.000000</td>\n",
       "    </tr>\n",
       "    <tr>\n",
       "      <th>mean</th>\n",
       "      <td>0.123647</td>\n",
       "    </tr>\n",
       "    <tr>\n",
       "      <th>std</th>\n",
       "      <td>0.215620</td>\n",
       "    </tr>\n",
       "    <tr>\n",
       "      <th>min</th>\n",
       "      <td>0.000208</td>\n",
       "    </tr>\n",
       "    <tr>\n",
       "      <th>25%</th>\n",
       "      <td>0.010274</td>\n",
       "    </tr>\n",
       "    <tr>\n",
       "      <th>50%</th>\n",
       "      <td>0.031139</td>\n",
       "    </tr>\n",
       "    <tr>\n",
       "      <th>75%</th>\n",
       "      <td>0.098115</td>\n",
       "    </tr>\n",
       "    <tr>\n",
       "      <th>max</th>\n",
       "      <td>0.999324</td>\n",
       "    </tr>\n",
       "  </tbody>\n",
       "</table>\n",
       "</div>"
      ],
      "text/plain": [
       "             proba\n",
       "count  9000.000000\n",
       "mean      0.123647\n",
       "std       0.215620\n",
       "min       0.000208\n",
       "25%       0.010274\n",
       "50%       0.031139\n",
       "75%       0.098115\n",
       "max       0.999324"
      ]
     },
     "execution_count": 41,
     "metadata": {},
     "output_type": "execute_result"
    }
   ],
   "source": [
    "proba_teste.describe()"
   ]
  },
  {
   "cell_type": "markdown",
   "metadata": {},
   "source": [
    "outra maneira......."
   ]
  },
  {
   "cell_type": "code",
   "execution_count": 14,
   "metadata": {},
   "outputs": [],
   "source": [
    "import toad"
   ]
  },
  {
   "cell_type": "code",
   "execution_count": 42,
   "metadata": {},
   "outputs": [],
   "source": [
    "base_score=1000\n",
    "base_odds=70\n",
    "pdo=80\n",
    "rate=2\n",
    "# odds=70\n",
    "# offset=660\n",
    "# pdo=80"
   ]
  },
  {
   "cell_type": "code",
   "execution_count": 62,
   "metadata": {},
   "outputs": [],
   "source": [
    "card = toad.ScoreCard(\n",
    "    class_weight = 'balanced',\n",
    "    C=0.1,\n",
    "    base_score = 1000,\n",
    "    base_odds = 35 ,\n",
    "    pdo = 80,\n",
    "    rate=2\n",
    ")"
   ]
  },
  {
   "cell_type": "code",
   "execution_count": null,
   "metadata": {},
   "outputs": [],
   "source": []
  },
  {
   "cell_type": "code",
   "execution_count": null,
   "metadata": {},
   "outputs": [],
   "source": []
  },
  {
   "cell_type": "code",
   "execution_count": null,
   "metadata": {},
   "outputs": [],
   "source": []
  }
 ],
 "metadata": {
  "kernelspec": {
   "display_name": "Python 3.8.5 64-bit",
   "language": "python",
   "name": "python3"
  },
  "language_info": {
   "codemirror_mode": {
    "name": "ipython",
    "version": 3
   },
   "file_extension": ".py",
   "mimetype": "text/x-python",
   "name": "python",
   "nbconvert_exporter": "python",
   "pygments_lexer": "ipython3",
   "version": "3.8.5"
  },
  "orig_nbformat": 4,
  "vscode": {
   "interpreter": {
    "hash": "76a57e45237d3dd95d6697d63dc336a8ee4776152e3aac98591bc1e77e8879a5"
   }
  }
 },
 "nbformat": 4,
 "nbformat_minor": 2
}
